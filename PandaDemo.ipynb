{
 "cells": [
  {
   "cell_type": "code",
   "execution_count": 2,
   "id": "32d9d722-f36b-44b0-a099-c5c3941f9853",
   "metadata": {},
   "outputs": [],
   "source": [
    "import pandas as pd"
   ]
  },
  {
   "cell_type": "code",
   "execution_count": 6,
   "id": "2b059eab-3357-430c-9184-33c3a58ba724",
   "metadata": {},
   "outputs": [
    {
     "name": "stdout",
     "output_type": "stream",
     "text": [
      "  student  addmission\n",
      "0     abc        2023\n",
      "1     def        2022\n",
      "2     frt        2021\n"
     ]
    }
   ],
   "source": [
    "dataset={ 'student':['abc','def','frt'],\n",
    "         'addmission':[2023,2022,2021]}\n",
    "\n",
    "demo=pd.DataFrame(dataset)\n",
    "print(demo)"
   ]
  },
  {
   "cell_type": "code",
   "execution_count": 7,
   "id": "963b24db-decb-489b-ba4b-965dedda4795",
   "metadata": {},
   "outputs": [
    {
     "name": "stdout",
     "output_type": "stream",
     "text": [
      "2.1.4\n"
     ]
    }
   ],
   "source": [
    "print(pd.__version__)"
   ]
  },
  {
   "cell_type": "code",
   "execution_count": 9,
   "id": "d4159a0c-0eea-4e6a-ae97-98ebca78eebb",
   "metadata": {},
   "outputs": [
    {
     "name": "stdout",
     "output_type": "stream",
     "text": [
      "0    20\n",
      "1    30\n",
      "2    40\n",
      "3    50\n",
      "dtype: int64\n"
     ]
    }
   ],
   "source": [
    "a=[20,30,40,50]\n",
    "demo1=pd.Series(a)\n",
    "print(demo1)"
   ]
  },
  {
   "cell_type": "code",
   "execution_count": 10,
   "id": "cd352da7-c5e5-489e-be61-6af0a66410bc",
   "metadata": {},
   "outputs": [
    {
     "name": "stdout",
     "output_type": "stream",
     "text": [
      "m1    20\n",
      "m2    30\n",
      "m3    40\n",
      "m4    50\n",
      "dtype: int64\n"
     ]
    }
   ],
   "source": [
    "demo2=pd.Series(a,index=[\"m1\",\"m2\",\"m3\",\"m4\"])\n",
    "print(demo2)"
   ]
  },
  {
   "cell_type": "code",
   "execution_count": 11,
   "id": "38c89eba-4642-40bc-b816-b945f7260484",
   "metadata": {},
   "outputs": [
    {
     "name": "stdout",
     "output_type": "stream",
     "text": [
      "40\n"
     ]
    }
   ],
   "source": [
    "print(demo2[\"m3\"])"
   ]
  },
  {
   "cell_type": "code",
   "execution_count": 12,
   "id": "030aedce-38f1-486a-b28b-a105910aab8f",
   "metadata": {},
   "outputs": [
    {
     "name": "stdout",
     "output_type": "stream",
     "text": [
      "abc    440\n",
      "def    220\n",
      "ssd    300\n",
      "dtype: int64\n"
     ]
    }
   ],
   "source": [
    "marks={\"abc\":440,\"def\":220,\"ssd\":300}\n",
    "demo2=pd.Series(marks)\n",
    "print(demo2)"
   ]
  },
  {
   "cell_type": "code",
   "execution_count": 15,
   "id": "d7272aa2-1f94-4ebf-8646-39b8de9bbb98",
   "metadata": {},
   "outputs": [
    {
     "name": "stdout",
     "output_type": "stream",
     "text": [
      "abc    440\n",
      "def    220\n",
      "dtype: int64\n"
     ]
    }
   ],
   "source": [
    "demo3=pd.Series(marks,index=[\"abc\",\"def\"])\n",
    "print(demo3)"
   ]
  },
  {
   "cell_type": "code",
   "execution_count": 17,
   "id": "edea7c0b-0a3d-4a1b-8aad-88741794a1e3",
   "metadata": {},
   "outputs": [
    {
     "name": "stdout",
     "output_type": "stream",
     "text": [
      "     product  price\n",
      "0  chocolate     50\n",
      "1       puff     20\n",
      "2     wafers     10\n"
     ]
    }
   ],
   "source": [
    "data={\"product\":[\"chocolate\",\"puff\",\"wafers\"],\n",
    "      \"price\":[50,20,10]}\n",
    "dataFr=pd.DataFrame(data)\n",
    "print(dataFr)"
   ]
  },
  {
   "cell_type": "code",
   "execution_count": 18,
   "id": "80051780-3418-4de1-87a8-18cb06ffe9a8",
   "metadata": {},
   "outputs": [
    {
     "name": "stdout",
     "output_type": "stream",
     "text": [
      "product    chocolate\n",
      "price             50\n",
      "Name: 0, dtype: object\n"
     ]
    }
   ],
   "source": [
    "print(dataFr.loc[0])"
   ]
  },
  {
   "cell_type": "code",
   "execution_count": 19,
   "id": "58890f17-d574-43a8-bf36-eb1c4401487f",
   "metadata": {},
   "outputs": [
    {
     "name": "stdout",
     "output_type": "stream",
     "text": [
      "   SrNo            Name  Total Marks  Obtained Marks  Percentage  Grade\n",
      "0     1      Smit Joshi          500             440         NaN    NaN\n",
      "1     2     Tejasv Modi          500             390         NaN    NaN\n",
      "2     3  Shreya Acharya          500             400         NaN    NaN\n",
      "3     4            Uzma          500             400         NaN    NaN\n",
      "4     5            Diya          500             360         NaN    NaN\n"
     ]
    }
   ],
   "source": [
    "StMarks=pd.read_csv('demoData.csv')\n",
    "print(StMarks)"
   ]
  },
  {
   "cell_type": "code",
   "execution_count": 20,
   "id": "40d77449-6a39-4ad1-868a-f8dbcf3e06a2",
   "metadata": {},
   "outputs": [
    {
     "name": "stdout",
     "output_type": "stream",
     "text": [
      "60\n"
     ]
    }
   ],
   "source": [
    "print(pd.options.display.max_rows)"
   ]
  },
  {
   "cell_type": "code",
   "execution_count": 24,
   "id": "2e97c585-b248-4b13-aa3f-cc132e623635",
   "metadata": {},
   "outputs": [
    {
     "name": "stdout",
     "output_type": "stream",
     "text": [
      "   SrNo            Name  Total Marks  Obtained Marks  Percentage  Grade\n",
      "0     1      Smit Joshi          500             440         NaN    NaN\n",
      "1     2     Tejasv Modi          500             390         NaN    NaN\n",
      "2     3  Shreya Acharya          500             400         NaN    NaN\n",
      "3     4            Uzma          500             400         NaN    NaN\n",
      "4     5            Diya          500             360         NaN    NaN\n"
     ]
    }
   ],
   "source": [
    "pd.options.display.max_rows=100\n",
    "stud_marks=pd.read_csv('demoData.csv')\n",
    "print(stud_marks)"
   ]
  },
  {
   "cell_type": "raw",
   "id": "3dd1580a-b70b-4f22-9a2b-dbfa856c4af4",
   "metadata": {},
   "source": [
    "print(stud_marks.head())"
   ]
  },
  {
   "cell_type": "code",
   "execution_count": 3,
   "id": "b39e1f9b-2bdf-43fd-973c-832b8cc7c5fa",
   "metadata": {},
   "outputs": [
    {
     "name": "stdout",
     "output_type": "stream",
     "text": [
      "   SrNo            Name  Total Marks  Obtained Marks  Percentage  Grade\n",
      "0     1      Smit Joshi        500.0           440.0         NaN    NaN\n",
      "1     2     Tejasv Modi        500.0           390.0         NaN    NaN\n",
      "2     3  Shreya Acharya        500.0           400.0         NaN    NaN\n",
      "3     4            Uzma        500.0           400.0         NaN    NaN\n",
      "4     5            Diya        500.0           360.0         NaN    NaN\n",
      "5     6            abcd        600.0           200.0         NaN    NaN\n",
      "6     7            aaaa        700.0           500.0         NaN    NaN\n",
      "7     8            abcd          NaN             NaN         NaN    NaN\n"
     ]
    }
   ],
   "source": [
    "stud=pd.read_csv('demoData.csv')\n",
    "print(stud)"
   ]
  },
  {
   "cell_type": "code",
   "execution_count": 27,
   "id": "8c049517-ac33-4bb8-881d-2025761d96c5",
   "metadata": {},
   "outputs": [
    {
     "name": "stdout",
     "output_type": "stream",
     "text": [
      "   SrNo            Name  Total Marks  Obtained Marks  Percentage  Grade\n",
      "0     1      Smit Joshi          500             440         NaN    NaN\n",
      "1     2     Tejasv Modi          500             390         NaN    NaN\n",
      "2     3  Shreya Acharya          500             400         NaN    NaN\n",
      "3     4            Uzma          500             400         NaN    NaN\n",
      "4     5            Diya          500             360         NaN    NaN\n"
     ]
    }
   ],
   "source": [
    "print(stud.head())"
   ]
  },
  {
   "cell_type": "code",
   "execution_count": 28,
   "id": "85eb5c42-6bf0-4e6b-95f8-267554d020ea",
   "metadata": {},
   "outputs": [
    {
     "name": "stdout",
     "output_type": "stream",
     "text": [
      "   SrNo            Name  Total Marks  Obtained Marks  Percentage  Grade\n",
      "2     3  Shreya Acharya          500             400         NaN    NaN\n",
      "3     4            Uzma          500             400         NaN    NaN\n",
      "4     5            Diya          500             360         NaN    NaN\n",
      "5     6            abcd          600             200         NaN    NaN\n",
      "6     7            aaaa          700             500         NaN    NaN\n"
     ]
    }
   ],
   "source": [
    "print(stud.tail())"
   ]
  },
  {
   "cell_type": "code",
   "execution_count": 35,
   "id": "d557ee99-7adb-4f93-9cab-b4afebabeb42",
   "metadata": {},
   "outputs": [
    {
     "name": "stdout",
     "output_type": "stream",
     "text": [
      "<class 'pandas.core.frame.DataFrame'>\n",
      "RangeIndex: 8 entries, 0 to 7\n",
      "Data columns (total 6 columns):\n",
      " #   Column          Non-Null Count  Dtype  \n",
      "---  ------          --------------  -----  \n",
      " 0   SrNo            8 non-null      int64  \n",
      " 1   Name            8 non-null      object \n",
      " 2   Total Marks     7 non-null      float64\n",
      " 3   Obtained Marks  7 non-null      float64\n",
      " 4   Percentage      0 non-null      float64\n",
      " 5   Grade           0 non-null      float64\n",
      "dtypes: float64(4), int64(1), object(1)\n",
      "memory usage: 516.0+ bytes\n",
      "None\n"
     ]
    }
   ],
   "source": [
    "print(stud.info())"
   ]
  },
  {
   "cell_type": "code",
   "execution_count": 34,
   "id": "82217412-dab8-4f8a-8aff-57b77a781b1d",
   "metadata": {},
   "outputs": [
    {
     "name": "stdout",
     "output_type": "stream",
     "text": [
      "Empty DataFrame\n",
      "Columns: [SrNo, Name, Total Marks, Obtained Marks, Percentage, Grade]\n",
      "Index: []\n"
     ]
    }
   ],
   "source": [
    "new_stud=stud.dropna() #stud.dropna(inplace=True)\n",
    "print(new_stud)"
   ]
  },
  {
   "cell_type": "code",
   "execution_count": 36,
   "id": "5f9b7b6c-17b3-4b10-a107-c2aedd726401",
   "metadata": {},
   "outputs": [
    {
     "name": "stdout",
     "output_type": "stream",
     "text": [
      "   SrNo            Name  Total Marks  Obtained Marks  Percentage  Grade\n",
      "0     1      Smit Joshi        500.0           440.0         NaN    NaN\n",
      "1     2     Tejasv Modi        500.0           390.0         NaN    NaN\n",
      "2     3  Shreya Acharya        500.0           400.0         NaN    NaN\n",
      "3     4            Uzma        500.0           400.0         NaN    NaN\n",
      "4     5            Diya        500.0           360.0         NaN    NaN\n",
      "5     6            abcd        600.0           200.0         NaN    NaN\n",
      "6     7            aaaa        700.0           500.0         NaN    NaN\n",
      "7     8            abcd          NaN             NaN         NaN    NaN\n"
     ]
    }
   ],
   "source": [
    "print(stud)"
   ]
  },
  {
   "cell_type": "code",
   "execution_count": 38,
   "id": "527b93eb-d539-402e-83b3-305a2b561ff0",
   "metadata": {},
   "outputs": [
    {
     "name": "stdout",
     "output_type": "stream",
     "text": [
      "   SrNo            Name  Total Marks  Obtained Marks  Percentage  Grade\n",
      "0     1      Smit Joshi        500.0           440.0       111.0  111.0\n",
      "1     2     Tejasv Modi        500.0           390.0       111.0  111.0\n",
      "2     3  Shreya Acharya        500.0           400.0       111.0  111.0\n",
      "3     4            Uzma        500.0           400.0       111.0  111.0\n",
      "4     5            Diya        500.0           360.0       111.0  111.0\n",
      "5     6            abcd        600.0           200.0       111.0  111.0\n",
      "6     7            aaaa        700.0           500.0       111.0  111.0\n",
      "7     8            abcd        111.0           111.0       111.0  111.0\n"
     ]
    }
   ],
   "source": [
    "fill_stud=stud.fillna(111)\n",
    "print(fill_stud)"
   ]
  },
  {
   "cell_type": "code",
   "execution_count": 40,
   "id": "d78dbbf8-b334-4fe6-8a48-27a333a313be",
   "metadata": {},
   "outputs": [
    {
     "name": "stdout",
     "output_type": "stream",
     "text": [
      "0    500.0\n",
      "1    500.0\n",
      "2    500.0\n",
      "3    500.0\n",
      "4    500.0\n",
      "5    600.0\n",
      "6    700.0\n",
      "7    555.0\n",
      "Name: Total Marks, dtype: float64\n"
     ]
    }
   ],
   "source": [
    "stud1=stud[\"Total Marks\"].fillna(555)\n",
    "print(stud1)"
   ]
  },
  {
   "cell_type": "code",
   "execution_count": 41,
   "id": "650d0f21-0c45-4383-89fa-1486df00c5c0",
   "metadata": {},
   "outputs": [
    {
     "name": "stdout",
     "output_type": "stream",
     "text": [
      "   SrNo            Name  Total Marks  Obtained Marks  Percentage  Grade\n",
      "0     1      Smit Joshi        500.0           440.0         NaN    NaN\n",
      "1     2     Tejasv Modi        500.0           390.0         NaN    NaN\n",
      "2     3  Shreya Acharya        500.0           400.0         NaN    NaN\n",
      "3     4            Uzma        500.0           400.0         NaN    NaN\n",
      "4     5            Diya        500.0           360.0         NaN    NaN\n",
      "5     6            abcd        600.0           200.0         NaN    NaN\n",
      "6     7            aaaa        700.0           500.0         NaN    NaN\n",
      "7     8            abcd        555.0             NaN         NaN    NaN\n"
     ]
    }
   ],
   "source": [
    "stud[\"Total Marks\"].fillna(555,inplace=True)\n",
    "print(stud)"
   ]
  },
  {
   "cell_type": "code",
   "execution_count": 48,
   "id": "51b49fc4-7eeb-495b-8eb8-b05b2e582cbd",
   "metadata": {},
   "outputs": [
    {
     "name": "stdout",
     "output_type": "stream",
     "text": [
      "384.2857142857143\n",
      "median:400.0\n",
      "mode:0    400.0\n",
      "Name: Obtained Marks, dtype: float64\n"
     ]
    }
   ],
   "source": [
    "mean=stud[\"Obtained Marks\"].mean()\n",
    "print(mean)\n",
    "\n",
    "median=stud[\"Obtained Marks\"].median()\n",
    "print(f\"median:{median}\")\n",
    "\n",
    "mode=stud[\"Obtained Marks\"].mode()\n",
    "print(f\"mode:{mode}\")"
   ]
  },
  {
   "cell_type": "code",
   "execution_count": 5,
   "id": "f390f782-3d75-42fd-a070-346fccf4f94a",
   "metadata": {},
   "outputs": [
    {
     "data": {
      "text/plain": [
       "Index(['SrNo', 'Name', 'Total Marks', 'Obtained Marks', 'Percentage', 'Grade'], dtype='object')"
      ]
     },
     "execution_count": 5,
     "metadata": {},
     "output_type": "execute_result"
    }
   ],
   "source": [
    "stud.columns"
   ]
  },
  {
   "cell_type": "code",
   "execution_count": 6,
   "id": "fdb60e5e-97c2-433b-a21f-926a39dfeef1",
   "metadata": {},
   "outputs": [
    {
     "name": "stdout",
     "output_type": "stream",
     "text": [
      "   SrNo            Name  Total Marks  Obtained Marks  Percentage  Grade\n",
      "0     1      Smit Joshi        500.0           440.0         NaN    NaN\n",
      "1     2     Tejasv Modi        500.0           390.0         NaN    NaN\n",
      "2     3  Shreya Acharya        500.0           400.0         NaN    NaN\n",
      "3     4            Uzma        500.0           400.0         NaN    NaN\n",
      "4     5            Diya        500.0           360.0         NaN    NaN\n"
     ]
    }
   ],
   "source": [
    "print(stud.loc[0:4])"
   ]
  },
  {
   "cell_type": "code",
   "execution_count": 12,
   "id": "9e42b301-9898-44f0-8d0f-aa19ff339ca7",
   "metadata": {},
   "outputs": [
    {
     "data": {
      "text/html": [
       "<div>\n",
       "<style scoped>\n",
       "    .dataframe tbody tr th:only-of-type {\n",
       "        vertical-align: middle;\n",
       "    }\n",
       "\n",
       "    .dataframe tbody tr th {\n",
       "        vertical-align: top;\n",
       "    }\n",
       "\n",
       "    .dataframe thead th {\n",
       "        text-align: right;\n",
       "    }\n",
       "</style>\n",
       "<table border=\"1\" class=\"dataframe\">\n",
       "  <thead>\n",
       "    <tr style=\"text-align: right;\">\n",
       "      <th></th>\n",
       "      <th>SrNo</th>\n",
       "      <th>Name</th>\n",
       "      <th>Total Marks</th>\n",
       "      <th>Obtained Marks</th>\n",
       "      <th>Percentage</th>\n",
       "      <th>Grade</th>\n",
       "    </tr>\n",
       "  </thead>\n",
       "  <tbody>\n",
       "    <tr>\n",
       "      <th>6</th>\n",
       "      <td>7</td>\n",
       "      <td>aaaa</td>\n",
       "      <td>700.0</td>\n",
       "      <td>500.0</td>\n",
       "      <td>NaN</td>\n",
       "      <td>NaN</td>\n",
       "    </tr>\n",
       "    <tr>\n",
       "      <th>0</th>\n",
       "      <td>1</td>\n",
       "      <td>Smit Joshi</td>\n",
       "      <td>500.0</td>\n",
       "      <td>440.0</td>\n",
       "      <td>NaN</td>\n",
       "      <td>NaN</td>\n",
       "    </tr>\n",
       "    <tr>\n",
       "      <th>2</th>\n",
       "      <td>3</td>\n",
       "      <td>Shreya Acharya</td>\n",
       "      <td>500.0</td>\n",
       "      <td>400.0</td>\n",
       "      <td>NaN</td>\n",
       "      <td>NaN</td>\n",
       "    </tr>\n",
       "    <tr>\n",
       "      <th>3</th>\n",
       "      <td>4</td>\n",
       "      <td>Uzma</td>\n",
       "      <td>500.0</td>\n",
       "      <td>400.0</td>\n",
       "      <td>NaN</td>\n",
       "      <td>NaN</td>\n",
       "    </tr>\n",
       "    <tr>\n",
       "      <th>1</th>\n",
       "      <td>2</td>\n",
       "      <td>Tejasv Modi</td>\n",
       "      <td>500.0</td>\n",
       "      <td>390.0</td>\n",
       "      <td>NaN</td>\n",
       "      <td>NaN</td>\n",
       "    </tr>\n",
       "    <tr>\n",
       "      <th>4</th>\n",
       "      <td>5</td>\n",
       "      <td>Diya</td>\n",
       "      <td>500.0</td>\n",
       "      <td>360.0</td>\n",
       "      <td>NaN</td>\n",
       "      <td>NaN</td>\n",
       "    </tr>\n",
       "    <tr>\n",
       "      <th>5</th>\n",
       "      <td>6</td>\n",
       "      <td>abcd</td>\n",
       "      <td>600.0</td>\n",
       "      <td>200.0</td>\n",
       "      <td>NaN</td>\n",
       "      <td>NaN</td>\n",
       "    </tr>\n",
       "    <tr>\n",
       "      <th>7</th>\n",
       "      <td>8</td>\n",
       "      <td>abcd</td>\n",
       "      <td>NaN</td>\n",
       "      <td>NaN</td>\n",
       "      <td>NaN</td>\n",
       "      <td>NaN</td>\n",
       "    </tr>\n",
       "  </tbody>\n",
       "</table>\n",
       "</div>"
      ],
      "text/plain": [
       "   SrNo            Name  Total Marks  Obtained Marks  Percentage  Grade\n",
       "6     7            aaaa        700.0           500.0         NaN    NaN\n",
       "0     1      Smit Joshi        500.0           440.0         NaN    NaN\n",
       "2     3  Shreya Acharya        500.0           400.0         NaN    NaN\n",
       "3     4            Uzma        500.0           400.0         NaN    NaN\n",
       "1     2     Tejasv Modi        500.0           390.0         NaN    NaN\n",
       "4     5            Diya        500.0           360.0         NaN    NaN\n",
       "5     6            abcd        600.0           200.0         NaN    NaN\n",
       "7     8            abcd          NaN             NaN         NaN    NaN"
      ]
     },
     "execution_count": 12,
     "metadata": {},
     "output_type": "execute_result"
    }
   ],
   "source": [
    "stud.sort_values(['Obtained Marks'],ascending=0)"
   ]
  },
  {
   "cell_type": "code",
   "execution_count": 19,
   "id": "8c88c05f-474b-4b74-8c67-90cd51d4f147",
   "metadata": {},
   "outputs": [
    {
     "data": {
      "text/html": [
       "<div>\n",
       "<style scoped>\n",
       "    .dataframe tbody tr th:only-of-type {\n",
       "        vertical-align: middle;\n",
       "    }\n",
       "\n",
       "    .dataframe tbody tr th {\n",
       "        vertical-align: top;\n",
       "    }\n",
       "\n",
       "    .dataframe thead th {\n",
       "        text-align: right;\n",
       "    }\n",
       "</style>\n",
       "<table border=\"1\" class=\"dataframe\">\n",
       "  <thead>\n",
       "    <tr style=\"text-align: right;\">\n",
       "      <th></th>\n",
       "      <th>SrNo</th>\n",
       "      <th>Name</th>\n",
       "      <th>Total Marks</th>\n",
       "      <th>Obtained Marks</th>\n",
       "      <th>Percentage</th>\n",
       "      <th>Grade</th>\n",
       "      <th>percentage</th>\n",
       "    </tr>\n",
       "  </thead>\n",
       "  <tbody>\n",
       "    <tr>\n",
       "      <th>0</th>\n",
       "      <td>1</td>\n",
       "      <td>Smit Joshi</td>\n",
       "      <td>500.0</td>\n",
       "      <td>440.0</td>\n",
       "      <td>NaN</td>\n",
       "      <td>NaN</td>\n",
       "      <td>88.0</td>\n",
       "    </tr>\n",
       "    <tr>\n",
       "      <th>1</th>\n",
       "      <td>2</td>\n",
       "      <td>Tejasv Modi</td>\n",
       "      <td>500.0</td>\n",
       "      <td>390.0</td>\n",
       "      <td>NaN</td>\n",
       "      <td>NaN</td>\n",
       "      <td>78.0</td>\n",
       "    </tr>\n",
       "    <tr>\n",
       "      <th>2</th>\n",
       "      <td>3</td>\n",
       "      <td>Shreya Acharya</td>\n",
       "      <td>500.0</td>\n",
       "      <td>400.0</td>\n",
       "      <td>NaN</td>\n",
       "      <td>NaN</td>\n",
       "      <td>80.0</td>\n",
       "    </tr>\n",
       "    <tr>\n",
       "      <th>3</th>\n",
       "      <td>4</td>\n",
       "      <td>Uzma</td>\n",
       "      <td>500.0</td>\n",
       "      <td>400.0</td>\n",
       "      <td>NaN</td>\n",
       "      <td>NaN</td>\n",
       "      <td>80.0</td>\n",
       "    </tr>\n",
       "    <tr>\n",
       "      <th>4</th>\n",
       "      <td>5</td>\n",
       "      <td>Diya</td>\n",
       "      <td>500.0</td>\n",
       "      <td>360.0</td>\n",
       "      <td>NaN</td>\n",
       "      <td>NaN</td>\n",
       "      <td>72.0</td>\n",
       "    </tr>\n",
       "  </tbody>\n",
       "</table>\n",
       "</div>"
      ],
      "text/plain": [
       "   SrNo            Name  Total Marks  Obtained Marks  Percentage  Grade  \\\n",
       "0     1      Smit Joshi        500.0           440.0         NaN    NaN   \n",
       "1     2     Tejasv Modi        500.0           390.0         NaN    NaN   \n",
       "2     3  Shreya Acharya        500.0           400.0         NaN    NaN   \n",
       "3     4            Uzma        500.0           400.0         NaN    NaN   \n",
       "4     5            Diya        500.0           360.0         NaN    NaN   \n",
       "\n",
       "   percentage  \n",
       "0        88.0  \n",
       "1        78.0  \n",
       "2        80.0  \n",
       "3        80.0  \n",
       "4        72.0  "
      ]
     },
     "execution_count": 19,
     "metadata": {},
     "output_type": "execute_result"
    }
   ],
   "source": [
    "stud['percentage']=(stud['Obtained Marks']/stud['Total Marks'])*100\n",
    "stud.head(5)"
   ]
  },
  {
   "cell_type": "code",
   "execution_count": null,
   "id": "c9f8af41-e6ff-4db1-b09c-89fa88464132",
   "metadata": {},
   "outputs": [],
   "source": []
  }
 ],
 "metadata": {
  "kernelspec": {
   "display_name": "Python 3 (ipykernel)",
   "language": "python",
   "name": "python3"
  },
  "language_info": {
   "codemirror_mode": {
    "name": "ipython",
    "version": 3
   },
   "file_extension": ".py",
   "mimetype": "text/x-python",
   "name": "python",
   "nbconvert_exporter": "python",
   "pygments_lexer": "ipython3",
   "version": "3.11.5"
  }
 },
 "nbformat": 4,
 "nbformat_minor": 5
}
